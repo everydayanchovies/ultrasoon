{
 "cells": [
  {
   "cell_type": "code",
   "execution_count": 1,
   "metadata": {
    "collapsed": true
   },
   "outputs": [],
   "source": [
    "from util import *\n",
    "\n",
    "# dfa = df_for_params(15, v=True)\n",
    "# dfb = df_for_params(30)\n",
    "# plt.plot(dfa[\"Ax\"], dfa[\"Ay\"])\n",
    "# plt.plot(dfb[\"Ax\"], dfb[\"Ay\"])\n",
    "# plt.plot(dfa[\"Bx\"], dfa[\"By\"])\n",
    "# plt.plot(dfb[\"Bx\"], dfb[\"By\"])\n",
    "# plt.show()"
   ]
  },
  {
   "cell_type": "code",
   "execution_count": 3,
   "outputs": [
    {
     "name": "stdout",
     "output_type": "stream",
     "text": [
      "0.06014000000000003\n",
      "0.06322\n",
      "0.06276000000000004\n",
      "0.06254000000000004\n",
      "0.06225999999999998\n",
      "0.06541999999999998\n"
     ]
    }
   ],
   "source": [
    "v = False\n",
    "for s in range(15, 45, 5):\n",
    "    print(delay_for_df(df_for_params(s, v), v))"
   ],
   "metadata": {
    "collapsed": false,
    "pycharm": {
     "name": "#%%\n"
    }
   }
  },
  {
   "cell_type": "code",
   "execution_count": 2,
   "outputs": [],
   "source": [],
   "metadata": {
    "collapsed": false,
    "pycharm": {
     "name": "#%%\n"
    }
   }
  }
 ],
 "metadata": {
  "kernelspec": {
   "display_name": "Python 3",
   "language": "python",
   "name": "python3"
  },
  "language_info": {
   "codemirror_mode": {
    "name": "ipython",
    "version": 2
   },
   "file_extension": ".py",
   "mimetype": "text/x-python",
   "name": "python",
   "nbconvert_exporter": "python",
   "pygments_lexer": "ipython2",
   "version": "2.7.6"
  }
 },
 "nbformat": 4,
 "nbformat_minor": 0
}