{
 "cells": [
  {
   "cell_type": "code",
   "execution_count": 1,
   "metadata": {
    "collapsed": true
   },
   "outputs": [],
   "source": [
    "from util import *\n",
    "\n",
    "# dfa = df_for_params(2.5, v=True)\n",
    "# dfb = df_for_params(30)\n",
    "# plt.plot(dfa[\"Ax\"], dfa[\"Ay\"])\n",
    "# plt.plot(dfb[\"Ax\"], dfb[\"Ay\"])\n",
    "# plt.plot(dfa[\"Bx\"], dfa[\"By\"])\n",
    "# plt.plot(dfb[\"Bx\"], dfb[\"By\"])\n",
    "# plt.show()"
   ]
  },
  {
   "cell_type": "code",
   "execution_count": 4,
   "outputs": [
    {
     "name": "stdout",
     "output_type": "stream",
     "text": [
      "0.06788\n",
      "0.06780000000000003\n",
      "0.06381999999999999\n",
      "0.06753999999999999\n",
      "0.06684000000000001\n",
      "0.06703999999999999\n",
      "0.060319999999999985\n",
      "0.06662000000000001\n",
      "0.06341999999999998\n",
      "0.07482000000000005\n",
      "0.059719999999999995\n",
      "0.06666\n",
      "0.06264000000000003\n",
      "0.06281999999999999\n",
      "0.059340000000000004\n",
      "0.06257999999999997\n",
      "0.06232000000000004\n"
     ]
    }
   ],
   "source": [
    "# v = True\n",
    "v = False\n",
    "# for s in range(0, 10, 5):\n",
    "for s in range(0, 85, 5):\n",
    "    print(delay_for_df(df_for_params(s/2, v), v))"
   ],
   "metadata": {
    "collapsed": false,
    "pycharm": {
     "name": "#%%\n"
    }
   }
  },
  {
   "cell_type": "code",
   "execution_count": 2,
   "outputs": [],
   "source": [],
   "metadata": {
    "collapsed": false,
    "pycharm": {
     "name": "#%%\n"
    }
   }
  }
 ],
 "metadata": {
  "kernelspec": {
   "display_name": "Python 3",
   "language": "python",
   "name": "python3"
  },
  "language_info": {
   "codemirror_mode": {
    "name": "ipython",
    "version": 2
   },
   "file_extension": ".py",
   "mimetype": "text/x-python",
   "name": "python",
   "nbconvert_exporter": "python",
   "pygments_lexer": "ipython2",
   "version": "2.7.6"
  }
 },
 "nbformat": 4,
 "nbformat_minor": 0
}